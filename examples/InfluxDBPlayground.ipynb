{
 "cells": [
  {
   "cell_type": "markdown",
   "metadata": {},
   "source": [
    "We will start the InfluxDB and Grafana containers using the makefile that we have in the project. "
   ]
  },
  {
   "cell_type": "code",
   "execution_count": 1,
   "metadata": {},
   "outputs": [
    {
     "name": "stdout",
     "output_type": "stream",
     "text": [
      "docker run -d -p 8083:8083 -p 8086:8086 \\\n",
      "-e INFLUXDB_DB=gpudata \\\n",
      "-e INFLUXDB_USER=admin \\\n",
      "-e INFLUXDB_USER_PASSWORD=password \\\n",
      "-v /home/mat/repos/influx_grafana/examples:/var/lib/influxdb \\\n",
      "-e INFLUXDB_ADMIN_ENABLED=true \\\n",
      "--name influxdb \\\n",
      "influxdb\n",
      "echo \"Influx DB gpudata set up waiting on port 8083\"\n",
      "2286c8d0ed3bd46e0426dd33712a01c0aacfd8541ae1613e861b65b50c5ea7b0\n",
      "Influx DB gpudata set up waiting on port 8083\n",
      "# create /var/lib/grafana as persistent volume storage\n",
      "docker run -d -v /var/lib/grafana --name grafana-storage busybox:latest\n",
      "# start grafana\n",
      "docker run \\\n",
      "  -d \\\n",
      "  -p 3000:3000 \\\n",
      "  --name=grafana \\\n",
      "  --volumes-from grafana-storage \\\n",
      "  --link influxdb:influxdb \\\n",
      "  -e GF_SECURITY_ADMIN_PASSWORD=secret \\\n",
      "  grafana/grafana\n",
      "echo \"Grafana set up and waiting on port 3000\"\n",
      "9c68cc8dbbb79c6b5f9f1b57c5f1fc5dd8518031e9ade0dda6beb9e747c9154b\n",
      "5b4229935525f7cf68c5218d8cc2225cdca7a24d824bdc1a2ab055a2f9f66235\n",
      "Grafana set up and waiting on port 3000\n",
      "InfluxDB and Grafana started\n",
      "Influx DB gpudata set up waiting on port 8083\n",
      "Grafana set up and waiting on port 3000\n"
     ]
    }
   ],
   "source": [
    "!make -f ../Makefile run INFLUXDB_DB=gpudata INFLUXDB_USER=admin INFLUXDB_USER_PASSWORD=password GF_ADMIN_PASSWORD=secret"
   ]
  },
  {
   "cell_type": "code",
   "execution_count": 2,
   "metadata": {},
   "outputs": [],
   "source": [
    "from influxdb import InfluxDBClient, DataFrameClient\n",
    "from datetime import datetime"
   ]
  },
  {
   "cell_type": "markdown",
   "metadata": {},
   "source": [
    "Below we will simply create some fake measurement data and write them to the database gpudata. The measurement variable is what is used to define the measurement/series/table. If we do not pass time then influxdb will simply enter its own timestamp. Tags can be used to group or select timeseries."
   ]
  },
  {
   "cell_type": "code",
   "execution_count": 3,
   "metadata": {},
   "outputs": [],
   "source": [
    "json_body = [\n",
    "    {\n",
    "        \"measurement\": \"gpu\",\n",
    "        \"tags\": {\n",
    "            \"gpu\": \"0\",\n",
    "            \"machine\": \"my_machine\"\n",
    "        },\n",
    "        \"time\": str(datetime.today()),\n",
    "        \"fields\": {\n",
    "            \"value\": 0.64\n",
    "        }\n",
    "    }\n",
    "]"
   ]
  },
  {
   "cell_type": "code",
   "execution_count": 4,
   "metadata": {},
   "outputs": [],
   "source": [
    "client = InfluxDBClient('localhost', 8086, 'admin', 'password', 'gpudata')"
   ]
  },
  {
   "cell_type": "code",
   "execution_count": 5,
   "metadata": {},
   "outputs": [
    {
     "data": {
      "text/plain": [
       "[{'name': 'gpudata'}]"
      ]
     },
     "execution_count": 5,
     "metadata": {},
     "output_type": "execute_result"
    }
   ],
   "source": [
    "client.get_list_database()"
   ]
  },
  {
   "cell_type": "code",
   "execution_count": 5,
   "metadata": {},
   "outputs": [
    {
     "data": {
      "text/plain": [
       "True"
      ]
     },
     "execution_count": 5,
     "metadata": {},
     "output_type": "execute_result"
    }
   ],
   "source": [
    "client.write_points(json_body)"
   ]
  },
  {
   "cell_type": "code",
   "execution_count": 6,
   "metadata": {},
   "outputs": [],
   "source": [
    "result = client.query('select * from gpu;')"
   ]
  },
  {
   "cell_type": "code",
   "execution_count": 7,
   "metadata": {},
   "outputs": [
    {
     "name": "stdout",
     "output_type": "stream",
     "text": [
      "Result: ResultSet({'('gpu', None)': [{'time': '2017-12-12T12:20:19.09255296Z', 'gpu': '0', 'machine': 'my_machine', 'value': 0.64}]})\n"
     ]
    }
   ],
   "source": [
    "print(\"Result: {0}\".format(result))"
   ]
  },
  {
   "cell_type": "code",
   "execution_count": 8,
   "metadata": {},
   "outputs": [
    {
     "data": {
      "text/plain": [
       "[{'name': 'gpudata'}]"
      ]
     },
     "execution_count": 8,
     "metadata": {},
     "output_type": "execute_result"
    }
   ],
   "source": [
    "client.get_list_database()"
   ]
  },
  {
   "cell_type": "code",
   "execution_count": 9,
   "metadata": {},
   "outputs": [
    {
     "data": {
      "text/plain": [
       "[{'name': 'gpu'}]"
      ]
     },
     "execution_count": 9,
     "metadata": {},
     "output_type": "execute_result"
    }
   ],
   "source": [
    "client.get_list_measurements()"
   ]
  },
  {
   "cell_type": "code",
   "execution_count": 10,
   "metadata": {},
   "outputs": [],
   "source": [
    "client.drop_measurement('gpu')"
   ]
  },
  {
   "cell_type": "code",
   "execution_count": 11,
   "metadata": {},
   "outputs": [
    {
     "data": {
      "text/plain": [
       "[]"
      ]
     },
     "execution_count": 11,
     "metadata": {},
     "output_type": "execute_result"
    }
   ],
   "source": [
    "client.get_list_measurements()"
   ]
  },
  {
   "cell_type": "code",
   "execution_count": 12,
   "metadata": {},
   "outputs": [
    {
     "data": {
      "text/plain": [
       "[{'name': 'gpudata'}, {'name': '_internal'}]"
      ]
     },
     "execution_count": 12,
     "metadata": {},
     "output_type": "execute_result"
    }
   ],
   "source": [
    "client.get_list_database()"
   ]
  },
  {
   "cell_type": "markdown",
   "metadata": {},
   "source": [
    "To clean everything up we just invoke the makefile clean command. This will stop and remove the containers and delete the data."
   ]
  },
  {
   "cell_type": "code",
   "execution_count": 13,
   "metadata": {},
   "outputs": [
    {
     "name": "stdout",
     "output_type": "stream",
     "text": [
      "docker stop influxdb grafana-storage grafana\n",
      "influxdb\n",
      "grafana-storage\n",
      "grafana\n",
      "rm -r data meta wal\n",
      "docker rm -v influxdb grafana-storage grafana\n",
      "influxdb\n",
      "grafana-storage\n",
      "grafana\n"
     ]
    }
   ],
   "source": [
    "!sudo make -f ../Makefile clean"
   ]
  }
 ],
 "metadata": {
  "kernelspec": {
   "display_name": "Python 3",
   "language": "python",
   "name": "python3"
  },
  "language_info": {
   "codemirror_mode": {
    "name": "ipython",
    "version": 3
   },
   "file_extension": ".py",
   "mimetype": "text/x-python",
   "name": "python",
   "nbconvert_exporter": "python",
   "pygments_lexer": "ipython3",
   "version": "3.6.3"
  }
 },
 "nbformat": 4,
 "nbformat_minor": 2
}
