{
 "cells": [
  {
   "cell_type": "markdown",
   "metadata": {},
   "source": [
    "If you haven't got the influxdb and grafana containers already running the run the following command that will start them up."
   ]
  },
  {
   "cell_type": "code",
   "execution_count": 21,
   "metadata": {},
   "outputs": [
    {
     "name": "stdout",
     "output_type": "stream",
     "text": [
      "docker run -d -p 8083:8083 -p 8086:8086 \\\n",
      "-e INFLUXDB_DB=gpudata \\\n",
      "-e INFLUXDB_USER=admin \\\n",
      "-e INFLUXDB_USER_PASSWORD=password \\\n",
      "-v /home/mat/repos/influx_grafana/examples:/var/lib/influxdb \\\n",
      "-e INFLUXDB_ADMIN_ENABLED=true \\\n",
      "--name influxdb \\\n",
      "influxdb\n",
      "echo \"Influx DB gpudata set up waiting on port 8083\"\n",
      "f0a05b672e17af7ccd525c2a3eecef3ebac6fb89fbaab9b971a3a15a3b574a94\n",
      "Influx DB gpudata set up waiting on port 8083\n",
      "# create /var/lib/grafana as persistent volume storage\n",
      "docker run -d -v /var/lib/grafana --name grafana-storage busybox:latest\n",
      "# start grafana\n",
      "docker run \\\n",
      "  -d \\\n",
      "  -p 3000:3000 \\\n",
      "  --name=grafana \\\n",
      "  --volumes-from grafana-storage \\\n",
      "  --link influxdb:influxdb \\\n",
      "  -e GF_SECURITY_ADMIN_PASSWORD=secret \\\n",
      "  grafana/grafana\n",
      "echo \"Grafana set up and waiting on port 3000\"\n",
      "1d400ccc1219f11dac025300085d155c1c2d756240ea5524d78d41ba014a7d11\n",
      "066fb7872cfed8a283d5ae560fcea1e1a15bc63466eaa2e4be5cb2a921711339\n",
      "Grafana set up and waiting on port 3000\n",
      "InfluxDB and Grafana started\n",
      "Influx DB gpudata set up waiting on port 8083\n",
      "Grafana set up and waiting on port 3000\n"
     ]
    }
   ],
   "source": [
    "!make -f ../Makefile run INFLUXDB_DB=gpudata INFLUXDB_USER=admin INFLUXDB_USER_PASSWORD=password GF_ADMIN_PASSWORD=secret"
   ]
  },
  {
   "cell_type": "code",
   "execution_count": 22,
   "metadata": {},
   "outputs": [],
   "source": [
    "import sys"
   ]
  },
  {
   "cell_type": "markdown",
   "metadata": {},
   "source": [
    "We will install the gpu monitoring utility gpumon"
   ]
  },
  {
   "cell_type": "code",
   "execution_count": 2,
   "metadata": {},
   "outputs": [
    {
     "name": "stdout",
     "output_type": "stream",
     "text": [
      "Cloning into 'gpu_monitor'...\n",
      "remote: Counting objects: 174, done.\u001b[K\n",
      "remote: Compressing objects: 100% (11/11), done.\u001b[K\n",
      "remote: Total 174 (delta 9), reused 14 (delta 6), pack-reused 157\u001b[K\n",
      "Receiving objects: 100% (174/174), 106.16 KiB | 0 bytes/s, done.\n",
      "Resolving deltas: 100% (93/93), done.\n",
      "Checking connectivity... done.\n"
     ]
    }
   ],
   "source": [
    "!git clone https://github.com/msalvaris/gpu_monitor.git"
   ]
  },
  {
   "cell_type": "code",
   "execution_count": 9,
   "metadata": {},
   "outputs": [
    {
     "name": "stdout",
     "output_type": "stream",
     "text": [
      "Obtaining file:///home/mat/repos/influx_grafana/examples/gpu_monitor\n",
      "Requirement already satisfied (use --upgrade to upgrade): bokeh==0.12.6 in ./envs/default/lib/python3.6/site-packages (from gpumon==0.0.1)\n",
      "Requirement already satisfied (use --upgrade to upgrade): pandas==0.19.1 in ./envs/default/lib/python3.6/site-packages (from gpumon==0.0.1)\n",
      "Requirement already satisfied (use --upgrade to upgrade): toolz==0.8.2 in ./envs/default/lib/python3.6/site-packages (from gpumon==0.0.1)\n",
      "Requirement already satisfied (use --upgrade to upgrade): pip==8.1.2 in ./envs/default/lib/python3.6/site-packages (from gpumon==0.0.1)\n",
      "Requirement already satisfied (use --upgrade to upgrade): setuptools==34.4.1 in ./envs/default/lib/python3.6/site-packages (from gpumon==0.0.1)\n",
      "Requirement already satisfied (use --upgrade to upgrade): pypandoc==1.4 in ./envs/default/lib/python3.6/site-packages (from gpumon==0.0.1)\n",
      "Requirement already satisfied (use --upgrade to upgrade): influxdb==4.1.1 in ./envs/default/lib/python3.6/site-packages (from gpumon==0.0.1)\n",
      "Requirement already satisfied (use --upgrade to upgrade): fire in ./envs/default/lib/python3.6/site-packages (from gpumon==0.0.1)\n",
      "Requirement already satisfied (use --upgrade to upgrade): requests>=1.2.3 in ./envs/default/lib/python3.6/site-packages (from bokeh==0.12.6->gpumon==0.0.1)\n",
      "Requirement already satisfied (use --upgrade to upgrade): tornado>=4.3 in ./envs/default/lib/python3.6/site-packages (from bokeh==0.12.6->gpumon==0.0.1)\n",
      "Requirement already satisfied (use --upgrade to upgrade): PyYAML>=3.10 in ./envs/default/lib/python3.6/site-packages (from bokeh==0.12.6->gpumon==0.0.1)\n",
      "Requirement already satisfied (use --upgrade to upgrade): Jinja2>=2.7 in ./envs/default/lib/python3.6/site-packages (from bokeh==0.12.6->gpumon==0.0.1)\n",
      "Requirement already satisfied (use --upgrade to upgrade): numpy>=1.7.1 in ./envs/default/lib/python3.6/site-packages (from bokeh==0.12.6->gpumon==0.0.1)\n",
      "Requirement already satisfied (use --upgrade to upgrade): six>=1.5.2 in ./envs/default/lib/python3.6/site-packages (from bokeh==0.12.6->gpumon==0.0.1)\n",
      "Requirement already satisfied (use --upgrade to upgrade): bkcharts>=0.2 in ./envs/default/lib/python3.6/site-packages (from bokeh==0.12.6->gpumon==0.0.1)\n",
      "Requirement already satisfied (use --upgrade to upgrade): python-dateutil>=2.1 in ./envs/default/lib/python3.6/site-packages (from bokeh==0.12.6->gpumon==0.0.1)\n",
      "Requirement already satisfied (use --upgrade to upgrade): pytz>=2011k in ./envs/default/lib/python3.6/site-packages (from pandas==0.19.1->gpumon==0.0.1)\n",
      "Requirement already satisfied (use --upgrade to upgrade): packaging>=16.8 in ./envs/default/lib/python3.6/site-packages (from setuptools==34.4.1->gpumon==0.0.1)\n",
      "Requirement already satisfied (use --upgrade to upgrade): appdirs>=1.4.0 in ./envs/default/lib/python3.6/site-packages (from setuptools==34.4.1->gpumon==0.0.1)\n",
      "Requirement already satisfied (use --upgrade to upgrade): wheel>=0.25.0 in ./envs/default/lib/python3.6/site-packages (from pypandoc==1.4->gpumon==0.0.1)\n",
      "Requirement already satisfied (use --upgrade to upgrade): chardet<3.1.0,>=3.0.2 in ./envs/default/lib/python3.6/site-packages (from requests>=1.2.3->bokeh==0.12.6->gpumon==0.0.1)\n",
      "Requirement already satisfied (use --upgrade to upgrade): idna<2.7,>=2.5 in ./envs/default/lib/python3.6/site-packages (from requests>=1.2.3->bokeh==0.12.6->gpumon==0.0.1)\n",
      "Requirement already satisfied (use --upgrade to upgrade): urllib3<1.23,>=1.21.1 in ./envs/default/lib/python3.6/site-packages (from requests>=1.2.3->bokeh==0.12.6->gpumon==0.0.1)\n",
      "Requirement already satisfied (use --upgrade to upgrade): certifi>=2017.4.17 in ./envs/default/lib/python3.6/site-packages (from requests>=1.2.3->bokeh==0.12.6->gpumon==0.0.1)\n",
      "Requirement already satisfied (use --upgrade to upgrade): MarkupSafe>=0.23 in ./envs/default/lib/python3.6/site-packages (from Jinja2>=2.7->bokeh==0.12.6->gpumon==0.0.1)\n",
      "Requirement already satisfied (use --upgrade to upgrade): pyparsing in ./envs/default/lib/python3.6/site-packages (from packaging>=16.8->setuptools==34.4.1->gpumon==0.0.1)\n",
      "Installing collected packages: gpumon\n",
      "  Running setup.py develop for gpumon\n",
      "Successfully installed gpumon\n",
      "\u001b[33mYou are using pip version 8.1.2, however version 9.0.1 is available.\n",
      "You should consider upgrading via the 'pip install --upgrade pip' command.\u001b[0m\n"
     ]
    }
   ],
   "source": [
    "!$sys.executable -m pip install -e /home/mat/repos/influx_grafana/examples/gpu_monitor"
   ]
  },
  {
   "cell_type": "code",
   "execution_count": 23,
   "metadata": {},
   "outputs": [
    {
     "name": "stdout",
     "output_type": "stream",
     "text": [
      "The autoreload extension is already loaded. To reload it, use:\n",
      "  %reload_ext autoreload\n"
     ]
    }
   ],
   "source": [
    "from influxdb import InfluxDBClient, DataFrameClient\n",
    "from time import sleep\n",
    "import pandas\n",
    "from itertools import filterfalse\n",
    "from toolz import merge,curry, compose, pipe\n",
    "from gpumon import create_influxdb_writer, nvidia_run_dmon_poll, db_log_context\n",
    "%load_ext autoreload\n",
    "%autoreload 2"
   ]
  },
  {
   "cell_type": "markdown",
   "metadata": {},
   "source": [
    "Here let's simply run the nvidia dmon and use the print statement to pipe it to stdout. It won't stop by itself so you will have to stop it yourself using the stop kernel button in the Jupyter notebook"
   ]
  },
  {
   "cell_type": "code",
   "execution_count": 24,
   "metadata": {},
   "outputs": [
    {
     "name": "stdout",
     "output_type": "stream",
     "text": [
      "b'#Date       Time        gpu   pwr  temp    sm   mem   enc   dec  mclk  pclk\\n'\n",
      "b'#YYYYMMDD   HH:MM:SS    Idx     W     C     %     %     %     %   MHz   MHz\\n'\n",
      "b' 20171212   12:38:29      0    33    29     0     0     0     0   324   324\\n'\n",
      "b' 20171212   12:38:30      0    33    29     0     0     0     0   324   324\\n'\n",
      "b' 20171212   12:38:31      0    33    28     0     0     0     0   324   324\\n'\n",
      "b' 20171212   12:38:32      0    33    28     0     0     0     0   324   324\\n'\n"
     ]
    },
    {
     "ename": "KeyboardInterrupt",
     "evalue": "",
     "output_type": "error",
     "traceback": [
      "\u001b[0;31m---------------------------------------------------------------------------\u001b[0m",
      "\u001b[0;31mKeyboardInterrupt\u001b[0m                         Traceback (most recent call last)",
      "\u001b[0;32m<ipython-input-24-32324befd865>\u001b[0m in \u001b[0;36m<module>\u001b[0;34m()\u001b[0m\n\u001b[0;32m----> 1\u001b[0;31m \u001b[0mnvidia_run_dmon_poll\u001b[0m\u001b[0;34m(\u001b[0m\u001b[0mprint\u001b[0m\u001b[0;34m)\u001b[0m\u001b[0;34m\u001b[0m\u001b[0m\n\u001b[0m",
      "\u001b[0;32m~/repos/influx_grafana/examples/gpu_monitor/gpumon/nvidia_dmon.py\u001b[0m in \u001b[0;36mnvidia_run_dmon_poll\u001b[0;34m(output_func, interval_seconds, polling_timeout, polling_interval)\u001b[0m\n\u001b[1;32m     32\u001b[0m             \u001b[0moutput_func\u001b[0m\u001b[0;34m(\u001b[0m\u001b[0mproc\u001b[0m\u001b[0;34m.\u001b[0m\u001b[0mstdout\u001b[0m\u001b[0;34m.\u001b[0m\u001b[0mreadline\u001b[0m\u001b[0;34m(\u001b[0m\u001b[0;34m)\u001b[0m\u001b[0;34m)\u001b[0m\u001b[0;34m\u001b[0m\u001b[0m\n\u001b[1;32m     33\u001b[0m         \u001b[0;32melse\u001b[0m\u001b[0;34m:\u001b[0m\u001b[0;34m\u001b[0m\u001b[0m\n\u001b[0;32m---> 34\u001b[0;31m             \u001b[0mtime\u001b[0m\u001b[0;34m.\u001b[0m\u001b[0msleep\u001b[0m\u001b[0;34m(\u001b[0m\u001b[0mpolling_interval\u001b[0m\u001b[0;34m)\u001b[0m\u001b[0;34m\u001b[0m\u001b[0m\n\u001b[0m\u001b[1;32m     35\u001b[0m \u001b[0;34m\u001b[0m\u001b[0m\n\u001b[1;32m     36\u001b[0m \u001b[0;34m\u001b[0m\u001b[0m\n",
      "\u001b[0;31mKeyboardInterrupt\u001b[0m: "
     ]
    }
   ],
   "source": [
    "nvidia_run_dmon_poll(print)"
   ]
  },
  {
   "cell_type": "markdown",
   "metadata": {},
   "source": [
    "Create the client and connect ot database"
   ]
  },
  {
   "cell_type": "code",
   "execution_count": 25,
   "metadata": {},
   "outputs": [],
   "source": [
    "client = InfluxDBClient('localhost', 8086, 'admin', 'password', 'gpudata')"
   ]
  },
  {
   "cell_type": "code",
   "execution_count": 26,
   "metadata": {},
   "outputs": [
    {
     "data": {
      "text/plain": [
       "[{'name': 'gpudata'}]"
      ]
     },
     "execution_count": 26,
     "metadata": {},
     "output_type": "execute_result"
    }
   ],
   "source": [
    "client.get_list_database()"
   ]
  },
  {
   "cell_type": "markdown",
   "metadata": {},
   "source": [
    "Now let's create our influx db writer and pass it into our nvidia deamon. Again it won't automatically stop so stop it after 5-6 seconds."
   ]
  },
  {
   "cell_type": "code",
   "execution_count": 27,
   "metadata": {},
   "outputs": [
    {
     "ename": "KeyboardInterrupt",
     "evalue": "",
     "output_type": "error",
     "traceback": [
      "\u001b[0;31m---------------------------------------------------------------------------\u001b[0m",
      "\u001b[0;31mKeyboardInterrupt\u001b[0m                         Traceback (most recent call last)",
      "\u001b[0;32m<ipython-input-27-636d06f5abd8>\u001b[0m in \u001b[0;36m<module>\u001b[0;34m()\u001b[0m\n\u001b[1;32m      1\u001b[0m \u001b[0mto_db\u001b[0m \u001b[0;34m=\u001b[0m \u001b[0mcreate_influxdb_writer\u001b[0m\u001b[0;34m(\u001b[0m\u001b[0mclient\u001b[0m\u001b[0;34m,\u001b[0m \u001b[0mseries_name\u001b[0m\u001b[0;34m=\u001b[0m\u001b[0;34m\"gpu\"\u001b[0m\u001b[0;34m,\u001b[0m \u001b[0mmachine\u001b[0m\u001b[0;34m=\u001b[0m\u001b[0;34m'this_machine'\u001b[0m\u001b[0;34m)\u001b[0m\u001b[0;34m\u001b[0m\u001b[0m\n\u001b[0;32m----> 2\u001b[0;31m \u001b[0mnvidia_run_dmon_poll\u001b[0m\u001b[0;34m(\u001b[0m\u001b[0mto_db\u001b[0m\u001b[0;34m)\u001b[0m\u001b[0;34m\u001b[0m\u001b[0m\n\u001b[0m",
      "\u001b[0;32m~/repos/influx_grafana/examples/gpu_monitor/gpumon/nvidia_dmon.py\u001b[0m in \u001b[0;36mnvidia_run_dmon_poll\u001b[0;34m(output_func, interval_seconds, polling_timeout, polling_interval)\u001b[0m\n\u001b[1;32m     32\u001b[0m             \u001b[0moutput_func\u001b[0m\u001b[0;34m(\u001b[0m\u001b[0mproc\u001b[0m\u001b[0;34m.\u001b[0m\u001b[0mstdout\u001b[0m\u001b[0;34m.\u001b[0m\u001b[0mreadline\u001b[0m\u001b[0;34m(\u001b[0m\u001b[0;34m)\u001b[0m\u001b[0;34m)\u001b[0m\u001b[0;34m\u001b[0m\u001b[0m\n\u001b[1;32m     33\u001b[0m         \u001b[0;32melse\u001b[0m\u001b[0;34m:\u001b[0m\u001b[0;34m\u001b[0m\u001b[0m\n\u001b[0;32m---> 34\u001b[0;31m             \u001b[0mtime\u001b[0m\u001b[0;34m.\u001b[0m\u001b[0msleep\u001b[0m\u001b[0;34m(\u001b[0m\u001b[0mpolling_interval\u001b[0m\u001b[0;34m)\u001b[0m\u001b[0;34m\u001b[0m\u001b[0m\n\u001b[0m\u001b[1;32m     35\u001b[0m \u001b[0;34m\u001b[0m\u001b[0m\n\u001b[1;32m     36\u001b[0m \u001b[0;34m\u001b[0m\u001b[0m\n",
      "\u001b[0;31mKeyboardInterrupt\u001b[0m: "
     ]
    }
   ],
   "source": [
    "to_db = create_influxdb_writer(client, series_name=\"gpu\", machine='this_machine')\n",
    "nvidia_run_dmon_poll(to_db)"
   ]
  },
  {
   "cell_type": "markdown",
   "metadata": {},
   "source": [
    "Using the command below we can see what is in the database"
   ]
  },
  {
   "cell_type": "code",
   "execution_count": 28,
   "metadata": {},
   "outputs": [
    {
     "data": {
      "text/plain": [
       "ResultSet({'('gpu', None)': [{'time': '2017-12-12T12:38:38Z', 'dec': 0, 'enc': 0, 'gpu': '0', 'machine': 'this_machine', 'mclk': 324, 'mem': 0, 'pclk': 324, 'pwr': 33, 'sm': 0, 'temp': 28}, {'time': '2017-12-12T12:38:39Z', 'dec': 0, 'enc': 0, 'gpu': '0', 'machine': 'this_machine', 'mclk': 324, 'mem': 0, 'pclk': 324, 'pwr': 33, 'sm': 0, 'temp': 28}, {'time': '2017-12-12T12:38:40Z', 'dec': 0, 'enc': 0, 'gpu': '0', 'machine': 'this_machine', 'mclk': 324, 'mem': 0, 'pclk': 324, 'pwr': 33, 'sm': 0, 'temp': 28}, {'time': '2017-12-12T12:38:41Z', 'dec': 0, 'enc': 0, 'gpu': '0', 'machine': 'this_machine', 'mclk': 324, 'mem': 0, 'pclk': 324, 'pwr': 33, 'sm': 0, 'temp': 28}, {'time': '2017-12-12T12:38:42Z', 'dec': 0, 'enc': 0, 'gpu': '0', 'machine': 'this_machine', 'mclk': 324, 'mem': 0, 'pclk': 324, 'pwr': 33, 'sm': 0, 'temp': 28}, {'time': '2017-12-12T12:38:43Z', 'dec': 0, 'enc': 0, 'gpu': '0', 'machine': 'this_machine', 'mclk': 324, 'mem': 0, 'pclk': 324, 'pwr': 33, 'sm': 0, 'temp': 28}, {'time': '2017-12-12T12:38:44Z', 'dec': 0, 'enc': 0, 'gpu': '0', 'machine': 'this_machine', 'mclk': 324, 'mem': 0, 'pclk': 324, 'pwr': 33, 'sm': 0, 'temp': 28}, {'time': '2017-12-12T12:38:45Z', 'dec': 0, 'enc': 0, 'gpu': '0', 'machine': 'this_machine', 'mclk': 324, 'mem': 0, 'pclk': 324, 'pwr': 33, 'sm': 0, 'temp': 28}]})"
      ]
     },
     "execution_count": 28,
     "metadata": {},
     "output_type": "execute_result"
    }
   ],
   "source": [
    "client.query('select * from gpu')"
   ]
  },
  {
   "cell_type": "markdown",
   "metadata": {},
   "source": [
    "The results above are fine but the formating isn't great. Using the DataFrameClient we can get the results back as a dataframe."
   ]
  },
  {
   "cell_type": "code",
   "execution_count": 29,
   "metadata": {},
   "outputs": [],
   "source": [
    "df_client = DataFrameClient('localhost', 8086, 'admin', 'password', 'gpudata')"
   ]
  },
  {
   "cell_type": "code",
   "execution_count": 30,
   "metadata": {},
   "outputs": [
    {
     "data": {
      "text/html": [
       "<div>\n",
       "<table border=\"1\" class=\"dataframe\">\n",
       "  <thead>\n",
       "    <tr style=\"text-align: right;\">\n",
       "      <th></th>\n",
       "      <th>dec</th>\n",
       "      <th>enc</th>\n",
       "      <th>gpu</th>\n",
       "      <th>machine</th>\n",
       "      <th>mclk</th>\n",
       "      <th>mem</th>\n",
       "      <th>pclk</th>\n",
       "      <th>pwr</th>\n",
       "      <th>sm</th>\n",
       "      <th>temp</th>\n",
       "    </tr>\n",
       "  </thead>\n",
       "  <tbody>\n",
       "    <tr>\n",
       "      <th>2017-12-12 12:38:38+00:00</th>\n",
       "      <td>0</td>\n",
       "      <td>0</td>\n",
       "      <td>0</td>\n",
       "      <td>this_machine</td>\n",
       "      <td>324</td>\n",
       "      <td>0</td>\n",
       "      <td>324</td>\n",
       "      <td>33</td>\n",
       "      <td>0</td>\n",
       "      <td>28</td>\n",
       "    </tr>\n",
       "    <tr>\n",
       "      <th>2017-12-12 12:38:39+00:00</th>\n",
       "      <td>0</td>\n",
       "      <td>0</td>\n",
       "      <td>0</td>\n",
       "      <td>this_machine</td>\n",
       "      <td>324</td>\n",
       "      <td>0</td>\n",
       "      <td>324</td>\n",
       "      <td>33</td>\n",
       "      <td>0</td>\n",
       "      <td>28</td>\n",
       "    </tr>\n",
       "    <tr>\n",
       "      <th>2017-12-12 12:38:40+00:00</th>\n",
       "      <td>0</td>\n",
       "      <td>0</td>\n",
       "      <td>0</td>\n",
       "      <td>this_machine</td>\n",
       "      <td>324</td>\n",
       "      <td>0</td>\n",
       "      <td>324</td>\n",
       "      <td>33</td>\n",
       "      <td>0</td>\n",
       "      <td>28</td>\n",
       "    </tr>\n",
       "    <tr>\n",
       "      <th>2017-12-12 12:38:41+00:00</th>\n",
       "      <td>0</td>\n",
       "      <td>0</td>\n",
       "      <td>0</td>\n",
       "      <td>this_machine</td>\n",
       "      <td>324</td>\n",
       "      <td>0</td>\n",
       "      <td>324</td>\n",
       "      <td>33</td>\n",
       "      <td>0</td>\n",
       "      <td>28</td>\n",
       "    </tr>\n",
       "    <tr>\n",
       "      <th>2017-12-12 12:38:42+00:00</th>\n",
       "      <td>0</td>\n",
       "      <td>0</td>\n",
       "      <td>0</td>\n",
       "      <td>this_machine</td>\n",
       "      <td>324</td>\n",
       "      <td>0</td>\n",
       "      <td>324</td>\n",
       "      <td>33</td>\n",
       "      <td>0</td>\n",
       "      <td>28</td>\n",
       "    </tr>\n",
       "    <tr>\n",
       "      <th>2017-12-12 12:38:43+00:00</th>\n",
       "      <td>0</td>\n",
       "      <td>0</td>\n",
       "      <td>0</td>\n",
       "      <td>this_machine</td>\n",
       "      <td>324</td>\n",
       "      <td>0</td>\n",
       "      <td>324</td>\n",
       "      <td>33</td>\n",
       "      <td>0</td>\n",
       "      <td>28</td>\n",
       "    </tr>\n",
       "    <tr>\n",
       "      <th>2017-12-12 12:38:44+00:00</th>\n",
       "      <td>0</td>\n",
       "      <td>0</td>\n",
       "      <td>0</td>\n",
       "      <td>this_machine</td>\n",
       "      <td>324</td>\n",
       "      <td>0</td>\n",
       "      <td>324</td>\n",
       "      <td>33</td>\n",
       "      <td>0</td>\n",
       "      <td>28</td>\n",
       "    </tr>\n",
       "    <tr>\n",
       "      <th>2017-12-12 12:38:45+00:00</th>\n",
       "      <td>0</td>\n",
       "      <td>0</td>\n",
       "      <td>0</td>\n",
       "      <td>this_machine</td>\n",
       "      <td>324</td>\n",
       "      <td>0</td>\n",
       "      <td>324</td>\n",
       "      <td>33</td>\n",
       "      <td>0</td>\n",
       "      <td>28</td>\n",
       "    </tr>\n",
       "  </tbody>\n",
       "</table>\n",
       "</div>"
      ],
      "text/plain": [
       "                           dec  enc gpu       machine  mclk  mem  pclk  pwr  \\\n",
       "2017-12-12 12:38:38+00:00    0    0   0  this_machine   324    0   324   33   \n",
       "2017-12-12 12:38:39+00:00    0    0   0  this_machine   324    0   324   33   \n",
       "2017-12-12 12:38:40+00:00    0    0   0  this_machine   324    0   324   33   \n",
       "2017-12-12 12:38:41+00:00    0    0   0  this_machine   324    0   324   33   \n",
       "2017-12-12 12:38:42+00:00    0    0   0  this_machine   324    0   324   33   \n",
       "2017-12-12 12:38:43+00:00    0    0   0  this_machine   324    0   324   33   \n",
       "2017-12-12 12:38:44+00:00    0    0   0  this_machine   324    0   324   33   \n",
       "2017-12-12 12:38:45+00:00    0    0   0  this_machine   324    0   324   33   \n",
       "\n",
       "                           sm  temp  \n",
       "2017-12-12 12:38:38+00:00   0    28  \n",
       "2017-12-12 12:38:39+00:00   0    28  \n",
       "2017-12-12 12:38:40+00:00   0    28  \n",
       "2017-12-12 12:38:41+00:00   0    28  \n",
       "2017-12-12 12:38:42+00:00   0    28  \n",
       "2017-12-12 12:38:43+00:00   0    28  \n",
       "2017-12-12 12:38:44+00:00   0    28  \n",
       "2017-12-12 12:38:45+00:00   0    28  "
      ]
     },
     "execution_count": 30,
     "metadata": {},
     "output_type": "execute_result"
    }
   ],
   "source": [
    "df_client.query(\"select * from gpu;\")['gpu']"
   ]
  },
  {
   "cell_type": "markdown",
   "metadata": {},
   "source": [
    "If you are going to use the gpu monitor in a notebook then your best choice is the logging context below that will setup the connection and keep logging while code is being executed within the context."
   ]
  },
  {
   "cell_type": "code",
   "execution_count": 31,
   "metadata": {},
   "outputs": [
    {
     "name": "stderr",
     "output_type": "stream",
     "text": [
      "INFO:gpumon.influxdb_gpu_logger:Logging GPU to Database localhost\n",
      "INFO:gpumon.influxdb_gpu_logger:['influxdb_gpu_logger.py', 'localhost', '8086', 'admin', 'password', 'gpudata', 'gpu', '--gpu=2', '--machine=machine2']\n"
     ]
    }
   ],
   "source": [
    "with db_log_context('localhost', '8086', 'admin', 'password', 'gpudata', 'gpu', gpu=2, machine='machine2'):\n",
    "    sleep(5)"
   ]
  },
  {
   "cell_type": "code",
   "execution_count": 32,
   "metadata": {},
   "outputs": [
    {
     "data": {
      "text/html": [
       "<div>\n",
       "<table border=\"1\" class=\"dataframe\">\n",
       "  <thead>\n",
       "    <tr style=\"text-align: right;\">\n",
       "      <th></th>\n",
       "      <th>dec</th>\n",
       "      <th>enc</th>\n",
       "      <th>gpu</th>\n",
       "      <th>machine</th>\n",
       "      <th>mclk</th>\n",
       "      <th>mem</th>\n",
       "      <th>pclk</th>\n",
       "      <th>pwr</th>\n",
       "      <th>sm</th>\n",
       "      <th>temp</th>\n",
       "    </tr>\n",
       "  </thead>\n",
       "  <tbody>\n",
       "    <tr>\n",
       "      <th>2017-12-12 12:38:38+00:00</th>\n",
       "      <td>0</td>\n",
       "      <td>0</td>\n",
       "      <td>0</td>\n",
       "      <td>this_machine</td>\n",
       "      <td>324</td>\n",
       "      <td>0</td>\n",
       "      <td>324</td>\n",
       "      <td>33</td>\n",
       "      <td>0</td>\n",
       "      <td>28</td>\n",
       "    </tr>\n",
       "    <tr>\n",
       "      <th>2017-12-12 12:38:39+00:00</th>\n",
       "      <td>0</td>\n",
       "      <td>0</td>\n",
       "      <td>0</td>\n",
       "      <td>this_machine</td>\n",
       "      <td>324</td>\n",
       "      <td>0</td>\n",
       "      <td>324</td>\n",
       "      <td>33</td>\n",
       "      <td>0</td>\n",
       "      <td>28</td>\n",
       "    </tr>\n",
       "    <tr>\n",
       "      <th>2017-12-12 12:38:40+00:00</th>\n",
       "      <td>0</td>\n",
       "      <td>0</td>\n",
       "      <td>0</td>\n",
       "      <td>this_machine</td>\n",
       "      <td>324</td>\n",
       "      <td>0</td>\n",
       "      <td>324</td>\n",
       "      <td>33</td>\n",
       "      <td>0</td>\n",
       "      <td>28</td>\n",
       "    </tr>\n",
       "    <tr>\n",
       "      <th>2017-12-12 12:38:41+00:00</th>\n",
       "      <td>0</td>\n",
       "      <td>0</td>\n",
       "      <td>0</td>\n",
       "      <td>this_machine</td>\n",
       "      <td>324</td>\n",
       "      <td>0</td>\n",
       "      <td>324</td>\n",
       "      <td>33</td>\n",
       "      <td>0</td>\n",
       "      <td>28</td>\n",
       "    </tr>\n",
       "    <tr>\n",
       "      <th>2017-12-12 12:38:42+00:00</th>\n",
       "      <td>0</td>\n",
       "      <td>0</td>\n",
       "      <td>0</td>\n",
       "      <td>this_machine</td>\n",
       "      <td>324</td>\n",
       "      <td>0</td>\n",
       "      <td>324</td>\n",
       "      <td>33</td>\n",
       "      <td>0</td>\n",
       "      <td>28</td>\n",
       "    </tr>\n",
       "    <tr>\n",
       "      <th>2017-12-12 12:38:43+00:00</th>\n",
       "      <td>0</td>\n",
       "      <td>0</td>\n",
       "      <td>0</td>\n",
       "      <td>this_machine</td>\n",
       "      <td>324</td>\n",
       "      <td>0</td>\n",
       "      <td>324</td>\n",
       "      <td>33</td>\n",
       "      <td>0</td>\n",
       "      <td>28</td>\n",
       "    </tr>\n",
       "    <tr>\n",
       "      <th>2017-12-12 12:38:44+00:00</th>\n",
       "      <td>0</td>\n",
       "      <td>0</td>\n",
       "      <td>0</td>\n",
       "      <td>this_machine</td>\n",
       "      <td>324</td>\n",
       "      <td>0</td>\n",
       "      <td>324</td>\n",
       "      <td>33</td>\n",
       "      <td>0</td>\n",
       "      <td>28</td>\n",
       "    </tr>\n",
       "    <tr>\n",
       "      <th>2017-12-12 12:38:45+00:00</th>\n",
       "      <td>0</td>\n",
       "      <td>0</td>\n",
       "      <td>0</td>\n",
       "      <td>this_machine</td>\n",
       "      <td>324</td>\n",
       "      <td>0</td>\n",
       "      <td>324</td>\n",
       "      <td>33</td>\n",
       "      <td>0</td>\n",
       "      <td>28</td>\n",
       "    </tr>\n",
       "    <tr>\n",
       "      <th>2017-12-12 12:38:59+00:00</th>\n",
       "      <td>0</td>\n",
       "      <td>0</td>\n",
       "      <td>2</td>\n",
       "      <td>machine2</td>\n",
       "      <td>324</td>\n",
       "      <td>0</td>\n",
       "      <td>324</td>\n",
       "      <td>33</td>\n",
       "      <td>0</td>\n",
       "      <td>28</td>\n",
       "    </tr>\n",
       "    <tr>\n",
       "      <th>2017-12-12 12:39:00+00:00</th>\n",
       "      <td>0</td>\n",
       "      <td>0</td>\n",
       "      <td>2</td>\n",
       "      <td>machine2</td>\n",
       "      <td>324</td>\n",
       "      <td>0</td>\n",
       "      <td>324</td>\n",
       "      <td>33</td>\n",
       "      <td>0</td>\n",
       "      <td>28</td>\n",
       "    </tr>\n",
       "    <tr>\n",
       "      <th>2017-12-12 12:39:01+00:00</th>\n",
       "      <td>0</td>\n",
       "      <td>0</td>\n",
       "      <td>2</td>\n",
       "      <td>machine2</td>\n",
       "      <td>324</td>\n",
       "      <td>0</td>\n",
       "      <td>324</td>\n",
       "      <td>33</td>\n",
       "      <td>0</td>\n",
       "      <td>28</td>\n",
       "    </tr>\n",
       "    <tr>\n",
       "      <th>2017-12-12 12:39:02+00:00</th>\n",
       "      <td>0</td>\n",
       "      <td>0</td>\n",
       "      <td>2</td>\n",
       "      <td>machine2</td>\n",
       "      <td>324</td>\n",
       "      <td>0</td>\n",
       "      <td>324</td>\n",
       "      <td>33</td>\n",
       "      <td>0</td>\n",
       "      <td>28</td>\n",
       "    </tr>\n",
       "  </tbody>\n",
       "</table>\n",
       "</div>"
      ],
      "text/plain": [
       "                           dec  enc gpu       machine  mclk  mem  pclk  pwr  \\\n",
       "2017-12-12 12:38:38+00:00    0    0   0  this_machine   324    0   324   33   \n",
       "2017-12-12 12:38:39+00:00    0    0   0  this_machine   324    0   324   33   \n",
       "2017-12-12 12:38:40+00:00    0    0   0  this_machine   324    0   324   33   \n",
       "2017-12-12 12:38:41+00:00    0    0   0  this_machine   324    0   324   33   \n",
       "2017-12-12 12:38:42+00:00    0    0   0  this_machine   324    0   324   33   \n",
       "2017-12-12 12:38:43+00:00    0    0   0  this_machine   324    0   324   33   \n",
       "2017-12-12 12:38:44+00:00    0    0   0  this_machine   324    0   324   33   \n",
       "2017-12-12 12:38:45+00:00    0    0   0  this_machine   324    0   324   33   \n",
       "2017-12-12 12:38:59+00:00    0    0   2      machine2   324    0   324   33   \n",
       "2017-12-12 12:39:00+00:00    0    0   2      machine2   324    0   324   33   \n",
       "2017-12-12 12:39:01+00:00    0    0   2      machine2   324    0   324   33   \n",
       "2017-12-12 12:39:02+00:00    0    0   2      machine2   324    0   324   33   \n",
       "\n",
       "                           sm  temp  \n",
       "2017-12-12 12:38:38+00:00   0    28  \n",
       "2017-12-12 12:38:39+00:00   0    28  \n",
       "2017-12-12 12:38:40+00:00   0    28  \n",
       "2017-12-12 12:38:41+00:00   0    28  \n",
       "2017-12-12 12:38:42+00:00   0    28  \n",
       "2017-12-12 12:38:43+00:00   0    28  \n",
       "2017-12-12 12:38:44+00:00   0    28  \n",
       "2017-12-12 12:38:45+00:00   0    28  \n",
       "2017-12-12 12:38:59+00:00   0    28  \n",
       "2017-12-12 12:39:00+00:00   0    28  \n",
       "2017-12-12 12:39:01+00:00   0    28  \n",
       "2017-12-12 12:39:02+00:00   0    28  "
      ]
     },
     "execution_count": 32,
     "metadata": {},
     "output_type": "execute_result"
    }
   ],
   "source": [
    "df_client.query(\"select * from gpu;\")['gpu']"
   ]
  },
  {
   "cell_type": "markdown",
   "metadata": {},
   "source": [
    "Tear everything down and delete the database"
   ]
  },
  {
   "cell_type": "code",
   "execution_count": 33,
   "metadata": {},
   "outputs": [
    {
     "name": "stdout",
     "output_type": "stream",
     "text": [
      "docker stop influxdb grafana-storage grafana\n",
      "influxdb\n",
      "grafana-storage\n",
      "grafana\n",
      "rm -r data meta wal\n",
      "docker rm -v influxdb grafana-storage grafana\n",
      "influxdb\n",
      "grafana-storage\n",
      "grafana\n"
     ]
    }
   ],
   "source": [
    "!sudo make -f ../Makefile clean"
   ]
  }
 ],
 "metadata": {
  "kernelspec": {
   "display_name": "Python 3",
   "language": "python",
   "name": "python3"
  },
  "language_info": {
   "codemirror_mode": {
    "name": "ipython",
    "version": 3
   },
   "file_extension": ".py",
   "mimetype": "text/x-python",
   "name": "python",
   "nbconvert_exporter": "python",
   "pygments_lexer": "ipython3",
   "version": "3.6.3"
  }
 },
 "nbformat": 4,
 "nbformat_minor": 2
}
